{
 "cells": [
  {
   "cell_type": "code",
   "execution_count": 1,
   "metadata": {},
   "outputs": [],
   "source": [
    "import nltk\n",
    "from nltk.tokenize import sent_tokenize\n",
    "from PyPDF2 import PdfReader\n",
    "import dotenv\n",
    "import os\n",
    "# from langchain_openai import AzureChatOpenAI\n",
    "from langchain_openai import ChatOpenAI\n",
    "import openai"
   ]
  },
  {
   "cell_type": "code",
   "execution_count": 3,
   "metadata": {},
   "outputs": [
    {
     "ename": "FileNotFoundError",
     "evalue": "[Errno 2] No such file or directory: 'data/employment_act.pdf'",
     "output_type": "error",
     "traceback": [
      "\u001b[0;31m---------------------------------------------------------------------------\u001b[0m",
      "\u001b[0;31mFileNotFoundError\u001b[0m                         Traceback (most recent call last)",
      "Cell \u001b[0;32mIn[3], line 3\u001b[0m\n\u001b[1;32m      1\u001b[0m pdf_path \u001b[38;5;241m=\u001b[39m \u001b[38;5;124m'\u001b[39m\u001b[38;5;124mdata/employment_act.pdf\u001b[39m\u001b[38;5;124m'\u001b[39m\n\u001b[0;32m----> 3\u001b[0m reader \u001b[38;5;241m=\u001b[39m \u001b[43mPdfReader\u001b[49m\u001b[43m(\u001b[49m\u001b[43mpdf_path\u001b[49m\u001b[43m)\u001b[49m\n\u001b[1;32m      4\u001b[0m number_of_pages \u001b[38;5;241m=\u001b[39m \u001b[38;5;28mlen\u001b[39m(reader\u001b[38;5;241m.\u001b[39mpages)\n\u001b[1;32m      6\u001b[0m text \u001b[38;5;241m=\u001b[39m \u001b[38;5;124m'\u001b[39m\u001b[38;5;124m'\u001b[39m\n",
      "File \u001b[0;32m~/anaconda3/envs/miniproj/lib/python3.12/site-packages/PyPDF2/_reader.py:317\u001b[0m, in \u001b[0;36mPdfReader.__init__\u001b[0;34m(self, stream, strict, password)\u001b[0m\n\u001b[1;32m    311\u001b[0m     logger_warning(\n\u001b[1;32m    312\u001b[0m         \u001b[38;5;124m\"\u001b[39m\u001b[38;5;124mPdfReader stream/file object is not in binary mode. \u001b[39m\u001b[38;5;124m\"\u001b[39m\n\u001b[1;32m    313\u001b[0m         \u001b[38;5;124m\"\u001b[39m\u001b[38;5;124mIt may not be read correctly.\u001b[39m\u001b[38;5;124m\"\u001b[39m,\n\u001b[1;32m    314\u001b[0m         \u001b[38;5;18m__name__\u001b[39m,\n\u001b[1;32m    315\u001b[0m     )\n\u001b[1;32m    316\u001b[0m \u001b[38;5;28;01mif\u001b[39;00m \u001b[38;5;28misinstance\u001b[39m(stream, (\u001b[38;5;28mstr\u001b[39m, Path)):\n\u001b[0;32m--> 317\u001b[0m     \u001b[38;5;28;01mwith\u001b[39;00m \u001b[38;5;28;43mopen\u001b[39;49m\u001b[43m(\u001b[49m\u001b[43mstream\u001b[49m\u001b[43m,\u001b[49m\u001b[43m \u001b[49m\u001b[38;5;124;43m\"\u001b[39;49m\u001b[38;5;124;43mrb\u001b[39;49m\u001b[38;5;124;43m\"\u001b[39;49m\u001b[43m)\u001b[49m \u001b[38;5;28;01mas\u001b[39;00m fh:\n\u001b[1;32m    318\u001b[0m         stream \u001b[38;5;241m=\u001b[39m BytesIO(fh\u001b[38;5;241m.\u001b[39mread())\n\u001b[1;32m    319\u001b[0m \u001b[38;5;28mself\u001b[39m\u001b[38;5;241m.\u001b[39mread(stream)\n",
      "\u001b[0;31mFileNotFoundError\u001b[0m: [Errno 2] No such file or directory: 'data/employment_act.pdf'"
     ]
    }
   ],
   "source": [
    "pdf_path = 'data/employment_act.pdf'\n",
    "\n",
    "reader = PdfReader(pdf_path)\n",
    "number_of_pages = len(reader.pages)\n",
    "\n",
    "text = ''\n",
    "for page_number in range(number_of_pages):\n",
    "    page = reader.pages[page_number]\n",
    "    text += page.extract_text()\n",
    "\n",
    "print(text)"
   ]
  },
  {
   "cell_type": "code",
   "execution_count": 16,
   "metadata": {},
   "outputs": [],
   "source": [
    "chunks = sent_tokenize(text)"
   ]
  },
  {
   "cell_type": "code",
   "execution_count": 21,
   "metadata": {},
   "outputs": [
    {
     "name": "stdout",
     "output_type": "stream",
     "text": [
      "Chunk 1: THE STATUTES OF THE REPUBLIC OF SINGAPORE\n",
      "EMPLOYMENT ACT 1968\n",
      "2020 REVISED EDITION\n",
      "This revised edition incorporates all amendments up to and\n",
      "including 1 December 2021 and comes into operation on 31 December 2021.\n",
      "\n",
      "Chunk 2: Prepared and Published by\n",
      "THE LAW REVISION COMMISSION\n",
      "UNDER THE AUTHORITY OF\n",
      "THE REVISED EDITION OF THE LAWS ACT 1983\n",
      "Informal Consolidation –version in force from 29/5/2022Employment Act 1968\n",
      "ARRANGEMENT OF SECTIONS\n",
      "PART 1\n",
      "PRELIMINARY\n",
      "Section\n",
      "1.\n",
      "\n",
      "Chunk 3: Short title\n",
      "2.\n",
      "\n",
      "Chunk 4: Interpretation3.\n",
      "\n",
      "Chunk 5: Appointment of officers4.\n",
      "\n"
     ]
    }
   ],
   "source": [
    "# View the first 5 chunks\n",
    "for i in range(5):\n",
    "    print(f\"Chunk {i+1}: {chunks[i]}\\n\")"
   ]
  },
  {
   "cell_type": "code",
   "execution_count": 28,
   "metadata": {},
   "outputs": [
    {
     "name": "stdout",
     "output_type": "stream",
     "text": [
      "Chunk 1: (b) for the type of information that must be communicated by\n",
      "the transferor to the affected employees and to a trade\n",
      "union of affected employees under subsection (5), or by the\n",
      "transferee to the transferor under subsection (6); and\n",
      "(c) to provide for a mechanism for conciliation of disputes\n",
      "arising out of or relating to a transfer mentioned in\n",
      "subsection (1) between any employer and employee.\n",
      "\n",
      "Chunk 2: (12) Nothing in this section prevents a transferee of an undertaking\n",
      "referred to in subsection (1) and an employee whose contract of\n",
      "service is preserved under that subsection or a trade union\n",
      "representing such an employee from negotiating for and agreeing\n",
      "to terms of service different from those contained in the contract ofservice that is preserved under that subsection.\n",
      "\n",
      "Chunk 3: (13) In this section —\n",
      "“affected employee ”means any employee of the transferor who\n",
      "may be affected by a transfer under subsection (1) or may be\n",
      "affected by the measures taken in connection with such a\n",
      "transfer;\n",
      "“trade union ”means a trade union which has been —\n",
      "(a) registered under any written law for the time being in\n",
      "force relating to the registration of trade unions; and\n",
      "(b) accorded recognition by the employer pursuant to\n",
      "section 17(1) of the Industrial Relations Act 1960;\n",
      "“transfer ”includes the disposition of a business as a going\n",
      "concern and a transfer effected by sale, amalgamation,\n",
      "merger, reconstruction or operation of law;\n",
      "“undertaking ”includes any trade or business.\n",
      "\n",
      "Chunk 4: Offence\n",
      "19.Any employer who enters into a contract of service or collective\n",
      "agreement contrary to the provisions of this Part shall be guilty of anoffence.Employment Act 1968 2020 Ed.\n",
      "\n",
      "Chunk 5: 26\n",
      "Informal Consolidation –version in force from 29/5/2022\n",
      "\n"
     ]
    }
   ],
   "source": [
    "# Load the PDF document and extract text from page 27\n",
    "page_27_text = reader.pages[26].extract_text()\n",
    "\n",
    "# Tokenize the text into sentences using NLTK\n",
    "sentences_27 = sent_tokenize(page_27_text)\n",
    "\n",
    "# Display the first 5 chunks\n",
    "for i in range(5):\n",
    "    print(f\"Chunk {i+1}: {sentences_27[i]}\\n\")"
   ]
  },
  {
   "cell_type": "code",
   "execution_count": 32,
   "metadata": {},
   "outputs": [
    {
     "data": {
      "text/plain": [
       "True"
      ]
     },
     "execution_count": 32,
     "metadata": {},
     "output_type": "execute_result"
    }
   ],
   "source": [
    "dotenv.load_dotenv('key.env')"
   ]
  },
  {
   "cell_type": "code",
   "execution_count": 33,
   "metadata": {},
   "outputs": [
    {
     "data": {
      "text/plain": [
       "'gps-35-turbo-0613'"
      ]
     },
     "execution_count": 33,
     "metadata": {},
     "output_type": "execute_result"
    }
   ],
   "source": [
    "os.getenv('OPENAI_DEPLOYMENT_NAME')"
   ]
  },
  {
   "cell_type": "code",
   "execution_count": 49,
   "metadata": {},
   "outputs": [],
   "source": [
    "# llm = AzureChatOpenAI(\n",
    "#     azure_endpoint = os.getenv('AZURE_OPENAI_ENDPOINT'),\n",
    "#     api_key = os.getenv('AZURE_OPENAI_API_KEY'),\n",
    "#     azure_deployment= os.getenv('OPENAI_DEPLOYMENT_NAME'),\n",
    "#     api_version=\"2023-05-15\",\n",
    "#     temperature=0.1,\n",
    "#     max_tokens=1000)"
   ]
  },
  {
   "cell_type": "code",
   "execution_count": null,
   "metadata": {},
   "outputs": [],
   "source": [
    "llm = ChatOpenAI(\n",
    "    api_key = os.getenv('OPENAI_API_KEY'), \n",
    "    temperature=0.1, \n",
    "    max_tokens=1000\n",
    ")"
   ]
  },
  {
   "cell_type": "code",
   "execution_count": 2,
   "metadata": {},
   "outputs": [],
   "source": [
    "# alternative: get api key as as config variable, then pass it explicitly into ChatOpenAI. i.e.\n",
    "config = dotenv.dotenv_values(\"../.env\") # located at root\n",
    "llm = ChatOpenAI(\n",
    "    api_key = config.get(\"api_key\"), \n",
    "    temperature=0.1, \n",
    "    max_tokens=1000\n",
    ")"
   ]
  },
  {
   "cell_type": "code",
   "execution_count": 3,
   "metadata": {},
   "outputs": [
    {
     "data": {
      "text/plain": [
       "AIMessage(content='\"Demon Slayer\" is a visually stunning and emotionally gripping anime movie that will leave audiences on the edge of their seats. The story follows Tanjiro Kamado, a young boy who becomes a demon slayer after his family is brutally murdered by demons. With the help of his demon-turned-sister Nezuko, Tanjiro embarks on a dangerous journey to seek revenge and protect humanity from the evil forces that threaten it.\\n\\nThe animation in \"Demon Slayer\" is absolutely breathtaking, with vibrant colors and fluid movements that bring the characters and action sequences to life. The fight scenes are intense and well-choreographed, keeping viewers engaged and on the edge of their seats throughout the film.\\n\\nBut what truly sets \"Demon Slayer\" apart is its emotional depth and character development. Tanjiro is a compelling protagonist, driven by his love for his family and his unwavering determination to protect others. The relationships he forms with his fellow demon slayers are heartwarming and add layers of complexity to the story.\\n\\nOverall, \"Demon Slayer\" is a must-watch for anime fans and newcomers alike. It combines stunning animation, thrilling action, and heartfelt emotion to create a truly unforgettable cinematic experience. Don\\'t miss out on this epic tale of courage, friendship, and the power of the human spirit.')"
      ]
     },
     "execution_count": 3,
     "metadata": {},
     "output_type": "execute_result"
    }
   ],
   "source": [
    "prompt = ['Generate a movie review text for the anime movie: Demon Slayer.']\n",
    "llm.invoke(prompt)"
   ]
  }
 ],
 "metadata": {
  "kernelspec": {
   "display_name": "AIAP",
   "language": "python",
   "name": "python3"
  },
  "language_info": {
   "codemirror_mode": {
    "name": "ipython",
    "version": 3
   },
   "file_extension": ".py",
   "mimetype": "text/x-python",
   "name": "python",
   "nbconvert_exporter": "python",
   "pygments_lexer": "ipython3",
   "version": "3.12.2"
  }
 },
 "nbformat": 4,
 "nbformat_minor": 2
}
