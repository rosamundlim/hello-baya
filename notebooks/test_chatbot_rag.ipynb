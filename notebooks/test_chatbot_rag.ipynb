{
 "cells": [
  {
   "cell_type": "code",
   "execution_count": 2,
   "metadata": {},
   "outputs": [],
   "source": [
    "# following tutorial from https://python.langchain.com/docs/use_cases/chatbots/retrieval"
   ]
  },
  {
   "cell_type": "code",
   "execution_count": 21,
   "metadata": {},
   "outputs": [],
   "source": [
    "from langchain.agents import Tool\n",
    "from langchain.chains import RetrievalQA\n",
    "from langchain.chains.combine_documents import create_stuff_documents_chain\n",
    "from langchain_core.prompts import ChatPromptTemplate, MessagesPlaceholder\n",
    "from langchain_core.messages import HumanMessage\n",
    "from langchain_core.runnables import RunnablePassthrough\n",
    "from langchain_community.document_loaders import PyPDFLoader\n",
    "from langchain_community.vectorstores import Chroma\n",
    "from langchain.embeddings import HuggingFaceEmbeddings\n",
    "from langchain_openai import ChatOpenAI\n",
    "from langchain_openai.embeddings import OpenAIEmbeddings\n",
    "from langchain.vectorstores import DocArrayInMemorySearch, Chroma\n",
    "from langchain_text_splitters import RecursiveCharacterTextSplitter\n",
    "from pydantic.v1 import BaseModel, Field\n",
    "from PyPDF2 import PdfReader\n",
    "from typing import Dict\n",
    "\n",
    "# Credentials\n",
    "import dotenv\n",
    "from pathlib import Path\n",
    "import os"
   ]
  },
  {
   "cell_type": "markdown",
   "metadata": {},
   "source": [
    "### ingest pdf file"
   ]
  },
  {
   "cell_type": "code",
   "execution_count": 2,
   "metadata": {},
   "outputs": [
    {
     "name": "stdout",
     "output_type": "stream",
     "text": [
      "THE STATUTES OF THE REPUBLIC OF SINGAPORE\n",
      "EMPLOYMENT ACT 1968\n",
      "2020 REVISED EDITION\n",
      "This revised edition incorporates all amendments up to and\n",
      "including 1 December 2021 and comes into operation on 31 December 2021.\n",
      "Prepared and Published by\n",
      "THE LAW REVISION COMMISSION\n",
      "UNDER THE AUTHORITY OF\n",
      "THE REVISED EDITION OF THE LAWS ACT 1983\n",
      "Informal Consolidation –version in force from 29/5/2022Employment Act 1968\n",
      "ARRANGEMENT OF SECTIONS\n",
      "PART 1\n",
      "PRELIMINARY\n",
      "Section\n",
      "1. Short title\n",
      "2. Interpretation3. Appointment of officers4. Rules and orders5. Minister may restrict application\n",
      "6. Existing law not affected\n",
      "7. [ Repealed ]\n",
      "PART 2\n",
      "CONTRACTS OF SERVICE\n",
      "8. Illegal terms of contract of service\n",
      "9. Termination of contract\n",
      "10. Notice of termination of contract\n",
      "11. Termination of contract without notice\n",
      "12. Contractual age13. When contract deemed to be broken by employer and employee14. Dismissal15. Termination by employee threatened by danger16. Liability on breach of contract17. Contract of service not to\n"
     ]
    }
   ],
   "source": [
    "pdf_path = '../data/Employment Act 1968.pdf'\n",
    "\n",
    "reader = PdfReader(pdf_path)\n",
    "number_of_pages = len(reader.pages)\n",
    "\n",
    "text = ''\n",
    "for page_number in range(number_of_pages):\n",
    "    page = reader.pages[page_number]\n",
    "    text += page.extract_text()\n",
    "\n",
    "print(text[:1000])"
   ]
  },
  {
   "cell_type": "code",
   "execution_count": 3,
   "metadata": {},
   "outputs": [],
   "source": [
    "text_splitter = RecursiveCharacterTextSplitter(chunk_size=500, chunk_overlap=50)\n",
    "all_splits = text_splitter.create_documents([text])"
   ]
  },
  {
   "cell_type": "markdown",
   "metadata": {},
   "source": [
    "#### create subset of only 5 documents from arbitrary split above"
   ]
  },
  {
   "cell_type": "code",
   "execution_count": 4,
   "metadata": {},
   "outputs": [
    {
     "data": {
      "text/plain": [
       "[Document(page_content='THE STATUTES OF THE REPUBLIC OF SINGAPORE\\nEMPLOYMENT ACT 1968\\n2020 REVISED EDITION\\nThis revised edition incorporates all amendments up to and\\nincluding 1 December 2021 and comes into operation on 31 December 2021.\\nPrepared and Published by\\nTHE LAW REVISION COMMISSION\\nUNDER THE AUTHORITY OF\\nTHE REVISED EDITION OF THE LAWS ACT 1983\\nInformal Consolidation –version in force from 29/5/2022Employment Act 1968\\nARRANGEMENT OF SECTIONS\\nPART 1\\nPRELIMINARY\\nSection\\n1. Short title'),\n",
       " Document(page_content='PART 1\\nPRELIMINARY\\nSection\\n1. Short title\\n2. Interpretation3. Appointment of officers4. Rules and orders5. Minister may restrict application\\n6. Existing law not affected\\n7. [ Repealed ]\\nPART 2\\nCONTRACTS OF SERVICE\\n8. Illegal terms of contract of service\\n9. Termination of contract\\n10. Notice of termination of contract\\n11. Termination of contract without notice'),\n",
       " Document(page_content='11. Termination of contract without notice\\n12. Contractual age13. When contract deemed to be broken by employer and employee14. Dismissal15. Termination by employee threatened by danger16. Liability on breach of contract17. Contract of service not to restrict rights of employees to join,\\nparticipate in or organise trade unions\\n18. Change of employer18A. Transfer of employment19. Offence\\nPART 3\\nPAYMENT OF SALARY\\n20. Fixation of salary period'),\n",
       " Document(page_content='PAYMENT OF SALARY\\n20. Fixation of salary period\\n20A. Computation of salary for incomplete month ’s work\\nInformal Consolidation –version in force from 29/5/2022\\n12020 Ed.Section\\n21. Time of payment\\n22. Payment on dismissal23. Payment on termination by employee24. Income tax clearance25. Payment to be made during working hours\\n26. No unauthorised deductions to be made'),\n",
       " Document(page_content='26. No unauthorised deductions to be made\\n27. Authorised deductions28. Deductions for absence29. Deductions for damages or loss30. Deductions for accommodation, amenity and service31. Recovery of advances and loans32. Deductions not to exceed prescribed limit33. Priority of salary to other debts34. Offence\\nPART 4\\nREST DAYS, HOURS OF WORK AND OTHER\\nCONDITIONS OF SERVICE\\n35. Application of this Part to certain workmen and other employees')]"
      ]
     },
     "execution_count": 4,
     "metadata": {},
     "output_type": "execute_result"
    }
   ],
   "source": [
    "five_docs = all_splits[:5]\n",
    "five_docs"
   ]
  },
  {
   "cell_type": "markdown",
   "metadata": {},
   "source": [
    "#### Use HuggingFace Embedding model to create embeddings"
   ]
  },
  {
   "cell_type": "code",
   "execution_count": 5,
   "metadata": {},
   "outputs": [
    {
     "name": "stderr",
     "output_type": "stream",
     "text": [
      "c:\\Users\\PY\\anaconda3\\envs\\demo\\Lib\\site-packages\\tqdm\\auto.py:21: TqdmWarning: IProgress not found. Please update jupyter and ipywidgets. See https://ipywidgets.readthedocs.io/en/stable/user_install.html\n",
      "  from .autonotebook import tqdm as notebook_tqdm\n"
     ]
    }
   ],
   "source": [
    "embeddings = HuggingFaceEmbeddings(model_name=\"all-MiniLM-L6-v2\")"
   ]
  },
  {
   "cell_type": "markdown",
   "metadata": {},
   "source": [
    "#### create vector store using ingested documents and Huggingface embedding model"
   ]
  },
  {
   "cell_type": "code",
   "execution_count": 7,
   "metadata": {},
   "outputs": [],
   "source": [
    "vectorstore = Chroma.from_documents(documents=five_docs, embedding=embeddings)"
   ]
  },
  {
   "cell_type": "markdown",
   "metadata": {},
   "source": [
    "#### set the vector store as a retriever for RAG"
   ]
  },
  {
   "cell_type": "code",
   "execution_count": 8,
   "metadata": {},
   "outputs": [],
   "source": [
    "# k is the number of chunks to retrieve\n",
    "retriever = vectorstore.as_retriever(k=2)"
   ]
  },
  {
   "cell_type": "code",
   "execution_count": 9,
   "metadata": {},
   "outputs": [
    {
     "data": {
      "text/plain": [
       "[Document(page_content='THE STATUTES OF THE REPUBLIC OF SINGAPORE\\nEMPLOYMENT ACT 1968\\n2020 REVISED EDITION\\nThis revised edition incorporates all amendments up to and\\nincluding 1 December 2021 and comes into operation on 31 December 2021.\\nPrepared and Published by\\nTHE LAW REVISION COMMISSION\\nUNDER THE AUTHORITY OF\\nTHE REVISED EDITION OF THE LAWS ACT 1983\\nInformal Consolidation –version in force from 29/5/2022Employment Act 1968\\nARRANGEMENT OF SECTIONS\\nPART 1\\nPRELIMINARY\\nSection\\n1. Short title'),\n",
       " Document(page_content='11. Termination of contract without notice\\n12. Contractual age13. When contract deemed to be broken by employer and employee14. Dismissal15. Termination by employee threatened by danger16. Liability on breach of contract17. Contract of service not to restrict rights of employees to join,\\nparticipate in or organise trade unions\\n18. Change of employer18A. Transfer of employment19. Offence\\nPART 3\\nPAYMENT OF SALARY\\n20. Fixation of salary period'),\n",
       " Document(page_content='26. No unauthorised deductions to be made\\n27. Authorised deductions28. Deductions for absence29. Deductions for damages or loss30. Deductions for accommodation, amenity and service31. Recovery of advances and loans32. Deductions not to exceed prescribed limit33. Priority of salary to other debts34. Offence\\nPART 4\\nREST DAYS, HOURS OF WORK AND OTHER\\nCONDITIONS OF SERVICE\\n35. Application of this Part to certain workmen and other employees'),\n",
       " Document(page_content='PART 1\\nPRELIMINARY\\nSection\\n1. Short title\\n2. Interpretation3. Appointment of officers4. Rules and orders5. Minister may restrict application\\n6. Existing law not affected\\n7. [ Repealed ]\\nPART 2\\nCONTRACTS OF SERVICE\\n8. Illegal terms of contract of service\\n9. Termination of contract\\n10. Notice of termination of contract\\n11. Termination of contract without notice')]"
      ]
     },
     "execution_count": 9,
     "metadata": {},
     "output_type": "execute_result"
    }
   ],
   "source": [
    "docs = retriever.invoke(\"can you tell me about the employment act?\")\n",
    "docs"
   ]
  },
  {
   "cell_type": "markdown",
   "metadata": {},
   "source": [
    "#### set up system template for document chain (set document store as context)"
   ]
  },
  {
   "cell_type": "code",
   "execution_count": 11,
   "metadata": {},
   "outputs": [],
   "source": [
    "SYSTEM_TEMPLATE = \"\"\"\n",
    "Answer the user's questions based on the below context. \n",
    "If the context doesn't contain any relevant information to the question, don't make something up and just say \"I don't know\":\n",
    "\n",
    "<context>\n",
    "{context}\n",
    "</context>\n",
    "\"\"\""
   ]
  },
  {
   "cell_type": "markdown",
   "metadata": {},
   "source": [
    "#### set up llm model"
   ]
  },
  {
   "cell_type": "code",
   "execution_count": 16,
   "metadata": {},
   "outputs": [],
   "source": [
    "config = dotenv.dotenv_values(\"../.env\") # located at root\n",
    "llm = ChatOpenAI(\n",
    "    openai_api_key = config.get(\"openai_api_key\"), \n",
    "    temperature=0.1, \n",
    "    max_tokens=100\n",
    ")"
   ]
  },
  {
   "cell_type": "markdown",
   "metadata": {},
   "source": [
    "#### test out Q&A promopt using llm "
   ]
  },
  {
   "cell_type": "code",
   "execution_count": 17,
   "metadata": {},
   "outputs": [],
   "source": [
    "question_answering_prompt = ChatPromptTemplate.from_messages(\n",
    "    [\n",
    "        (\n",
    "            \"system\",\n",
    "            SYSTEM_TEMPLATE\n",
    "        ),\n",
    "        MessagesPlaceholder(variable_name=\"messages\")\n",
    "    ]\n",
    ")\n",
    "document_chain = create_stuff_documents_chain(llm, question_answering_prompt)"
   ]
  },
  {
   "cell_type": "markdown",
   "metadata": {},
   "source": [
    "#### combine document chain with retriever for retriever-augmented generation by llm"
   ]
  },
  {
   "cell_type": "code",
   "execution_count": 19,
   "metadata": {},
   "outputs": [
    {
     "data": {
      "text/plain": [
       "'The context provided outlines the Employment Act 1968 of Singapore, which covers various aspects of employment such as termination of contracts, payment of salary, deductions, rest days, hours of work, and other conditions of service. The Act also addresses illegal terms of contracts, termination procedures, and restrictions on applications. It is important to note that this is a specific piece of legislation and there may be other laws and regulations in Singapore that govern different aspects of employment.'"
      ]
     },
     "execution_count": 19,
     "metadata": {},
     "output_type": "execute_result"
    }
   ],
   "source": [
    "document_chain.invoke(\n",
    "    {\n",
    "        \"context\": docs, \n",
    "        \"messages\":[\n",
    "            HumanMessage(content=\"tell me about the employment laws in singapore\")\n",
    "        ],\n",
    "    }\n",
    ")"
   ]
  },
  {
   "cell_type": "markdown",
   "metadata": {},
   "source": [
    "##### checking document chain WITHOUT context from our vector store (i.e. generic chatGPT response)"
   ]
  },
  {
   "cell_type": "code",
   "execution_count": 20,
   "metadata": {},
   "outputs": [
    {
     "data": {
      "text/plain": [
       "'Employment laws in Singapore are governed by the Ministry of Manpower (MOM) and cover various aspects such as employment contracts, working hours, leave entitlements, and workplace safety. Some key regulations include the Employment Act, which sets out the basic terms and conditions of employment, and the Work Injury Compensation Act, which provides for compensation in the event of work-related injuries or illnesses. Employers are also required to contribute to the Central Provident Fund (CPF) for their employees. It is important'"
      ]
     },
     "execution_count": 20,
     "metadata": {},
     "output_type": "execute_result"
    }
   ],
   "source": [
    "document_chain.invoke(\n",
    "    {\n",
    "        \"context\": [], \n",
    "        \"messages\":[\n",
    "            HumanMessage(content=\"tell me about the employment laws in singapore\")\n",
    "        ],\n",
    "    }\n",
    ")"
   ]
  },
  {
   "cell_type": "markdown",
   "metadata": {},
   "source": [
    "#### Combine document chain with retriever "
   ]
  },
  {
   "cell_type": "code",
   "execution_count": 22,
   "metadata": {},
   "outputs": [],
   "source": [
    "def parse_retriever_input(params: Dict):\n",
    "    return params[\"messages\"][-1].content\n",
    "\n",
    "retrieval_chain = RunnablePassthrough.assign(\n",
    "    context=parse_retriever_input | retriever,\n",
    ").assign(\n",
    "    answer=document_chain\n",
    ")"
   ]
  },
  {
   "cell_type": "code",
   "execution_count": 23,
   "metadata": {},
   "outputs": [
    {
     "data": {
      "text/plain": [
       "{'messages': [HumanMessage(content='which year was the singapore employment act passed?')],\n",
       " 'context': [Document(page_content='THE STATUTES OF THE REPUBLIC OF SINGAPORE\\nEMPLOYMENT ACT 1968\\n2020 REVISED EDITION\\nThis revised edition incorporates all amendments up to and\\nincluding 1 December 2021 and comes into operation on 31 December 2021.\\nPrepared and Published by\\nTHE LAW REVISION COMMISSION\\nUNDER THE AUTHORITY OF\\nTHE REVISED EDITION OF THE LAWS ACT 1983\\nInformal Consolidation –version in force from 29/5/2022Employment Act 1968\\nARRANGEMENT OF SECTIONS\\nPART 1\\nPRELIMINARY\\nSection\\n1. Short title'),\n",
       "  Document(page_content='11. Termination of contract without notice\\n12. Contractual age13. When contract deemed to be broken by employer and employee14. Dismissal15. Termination by employee threatened by danger16. Liability on breach of contract17. Contract of service not to restrict rights of employees to join,\\nparticipate in or organise trade unions\\n18. Change of employer18A. Transfer of employment19. Offence\\nPART 3\\nPAYMENT OF SALARY\\n20. Fixation of salary period'),\n",
       "  Document(page_content='PAYMENT OF SALARY\\n20. Fixation of salary period\\n20A. Computation of salary for incomplete month ’s work\\nInformal Consolidation –version in force from 29/5/2022\\n12020 Ed.Section\\n21. Time of payment\\n22. Payment on dismissal23. Payment on termination by employee24. Income tax clearance25. Payment to be made during working hours\\n26. No unauthorised deductions to be made'),\n",
       "  Document(page_content='PART 1\\nPRELIMINARY\\nSection\\n1. Short title\\n2. Interpretation3. Appointment of officers4. Rules and orders5. Minister may restrict application\\n6. Existing law not affected\\n7. [ Repealed ]\\nPART 2\\nCONTRACTS OF SERVICE\\n8. Illegal terms of contract of service\\n9. Termination of contract\\n10. Notice of termination of contract\\n11. Termination of contract without notice')],\n",
       " 'answer': 'The Singapore Employment Act was passed in 1968.'}"
      ]
     },
     "execution_count": 23,
     "metadata": {},
     "output_type": "execute_result"
    }
   ],
   "source": [
    "retrieval_chain.invoke(\n",
    "    {\n",
    "        \"messages\": [\n",
    "            HumanMessage(content=\"which year was the singapore employment act passed?\")\n",
    "        ]\n",
    "    }\n",
    ")"
   ]
  }
 ],
 "metadata": {
  "kernelspec": {
   "display_name": "Python 3",
   "language": "python",
   "name": "python3"
  },
  "language_info": {
   "codemirror_mode": {
    "name": "ipython",
    "version": 3
   },
   "file_extension": ".py",
   "mimetype": "text/x-python",
   "name": "python",
   "nbconvert_exporter": "python",
   "pygments_lexer": "ipython3",
   "version": "3.11.7"
  }
 },
 "nbformat": 4,
 "nbformat_minor": 2
}
